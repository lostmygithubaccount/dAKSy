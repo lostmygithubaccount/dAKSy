{
 "cells": [
  {
   "cell_type": "code",
   "execution_count": null,
   "metadata": {},
   "outputs": [],
   "source": [
    "!sudo apt-get update && sudo apt-get install -y apt-transport-https\n",
    "!curl -s https://packages.cloud.google.com/apt/doc/apt-key.gpg | sudo apt-key add -\n",
    "!echo \"deb https://apt.kubernetes.io/ kubernetes-xenial main\" | sudo tee -a /etc/apt/sources.list.d/kubernetes.list\n",
    "!sudo apt-get update\n",
    "!sudo apt-get install -y kubectl"
   ]
  },
  {
   "cell_type": "code",
   "execution_count": null,
   "metadata": {},
   "outputs": [],
   "source": [
    "!curl https://raw.githubusercontent.com/kubernetes/helm/master/scripts/get | bash"
   ]
  },
  {
   "cell_type": "code",
   "execution_count": null,
   "metadata": {},
   "outputs": [],
   "source": [
    "!sudo apt-get install gir1.2-glib-2.0"
   ]
  },
  {
   "cell_type": "code",
   "execution_count": null,
   "metadata": {},
   "outputs": [],
   "source": [
    "!pip install --upgrade dask[complete] dask-kubernetes dask-gateway "
   ]
  },
  {
   "cell_type": "markdown",
   "metadata": {},
   "source": [
    "**RESTART YOUR KERNEL**"
   ]
  },
  {
   "cell_type": "code",
   "execution_count": 1,
   "metadata": {},
   "outputs": [
    {
     "name": "stdout",
     "output_type": "stream",
     "text": [
      "\u001b[33mTo sign in, use a web browser to open the page https://microsoft.com/devicelogin and enter the code BAPY86UDP to authenticate.\u001b[0m\n",
      "\u001b[33mFailed to authenticate '{'additional_properties': {'displayName': 'Chevron', 'domains': ['pasadenarefining.com', 'chevronstores.com', 'caltexgo.com', 'caltex.com.vn', 'chevronpac.com', 'chevronlummusglobal.com', 'chevronuktr.com', 'xponentcard.com', 'chevronenergy.com', 'chevronlubricants.com', 'cvxarea52.com', 'deepstar.org', 'arteco-coolants.eu', 'chevronpartnershipprograms.com', 'chevronadvocacynetwork.com', 'anlngservices.com', 'catchlightenergy.com', 'sasolchevron.com', 'caltex.com', 'richmondrefinery.com', 'chevronapc.onmicrosoft.com', 'chevroneur.onmicrosoft.com', 'chevrontexaco.net', 'chevrontexaco.com', 'tengizchevroil.net', 'tengizchevroil.com', 'tco.tengizchevroil.net', 'chevron.mail.onmicrosoft.com', 'chevron.onmicrosoft.com', 'ct.chevrontexaco.net', 'chevron.net', 'chevron.com'], 'countryCode': 'US', 'tenantCategory': 'Home'}, 'id': '/tenants/fd799da1-bfc1-4234-a91c-72b3a1cb9e26', 'tenant_id': 'fd799da1-bfc1-4234-a91c-72b3a1cb9e26'}' due to error 'Get Token request returned http error: 400 and server response: {\"error\":\"interaction_required\",\"error_description\":\"AADSTS50076: Due to a configuration change made by your administrator, or because you moved to a new location, you must use multi-factor authentication to access '797f4846-ba00-4fd7-ba43-dac1f8f63013'.\\r\\nTrace ID: bd52a0dd-fa83-494b-8986-34c502db1c00\\r\\nCorrelation ID: 077c977b-a4e6-4bfc-bd88-470e8383dae8\\r\\nTimestamp: 2020-03-22 02:36:05Z\",\"error_codes\":[50076],\"timestamp\":\"2020-03-22 02:36:05Z\",\"trace_id\":\"bd52a0dd-fa83-494b-8986-34c502db1c00\",\"correlation_id\":\"077c977b-a4e6-4bfc-bd88-470e8383dae8\",\"error_uri\":\"https://login.microsoftonline.com/error?code=50076\",\"suberror\":\"basic_action\"}'\u001b[0m\n"
     ]
    }
   ],
   "source": [
    "!az login >> /dev/null"
   ]
  },
  {
   "cell_type": "code",
   "execution_count": 2,
   "metadata": {},
   "outputs": [
    {
     "name": "stdout",
     "output_type": "stream",
     "text": [
      "{\n",
      "  \"environmentName\": \"AzureCloud\",\n",
      "  \"homeTenantId\": \"72f988bf-86f1-41af-91ab-2d7cd011db47\",\n",
      "  \"id\": \"6560575d-fa06-4e7d-95fb-f962e74efd7a\",\n",
      "  \"isDefault\": true,\n",
      "  \"managedByTenants\": [\n",
      "    {\n",
      "      \"tenantId\": \"2f4a9838-26b7-47ee-be60-ccc1fdec5953\"\n",
      "    }\n",
      "  ],\n",
      "  \"name\": \"Data4ML PM\",\n",
      "  \"state\": \"Enabled\",\n",
      "  \"tenantId\": \"72f988bf-86f1-41af-91ab-2d7cd011db47\",\n",
      "  \"user\": {\n",
      "    \"name\": \"copeters@microsoft.com\",\n",
      "    \"type\": \"user\"\n",
      "  }\n",
      "}\n",
      "\u001b[0m"
     ]
    }
   ],
   "source": [
    "!az account show"
   ]
  },
  {
   "cell_type": "code",
   "execution_count": 3,
   "metadata": {},
   "outputs": [],
   "source": [
    "import os\n",
    "os.environ['RG']  = 'cody-aks-rg'\n",
    "os.environ['AKS'] = 'dasky3'\n",
    "os.environ['LOC'] = 'westus2'\n",
    "os.environ['VM']  = 'STANDARD_DS12_V2'\n",
    "os.environ['MIN'] = '3'\n",
    "os.environ['MAX'] = '100'\n",
    "\n",
    "# used for dask-gateway\n",
    "os.environ['DG']  = 'dask-gateway'\n",
    "os.environ['DGV'] = '0.6.1'"
   ]
  },
  {
   "cell_type": "code",
   "execution_count": 4,
   "metadata": {},
   "outputs": [
    {
     "name": "stdout",
     "output_type": "stream",
     "text": [
      "{\n",
      "  \"id\": \"/subscriptions/6560575d-fa06-4e7d-95fb-f962e74efd7a/resourceGroups/cody-image-rg\",\n",
      "  \"location\": \"westus2\",\n",
      "  \"managedBy\": null,\n",
      "  \"name\": \"cody-image-rg\",\n",
      "  \"properties\": {\n",
      "    \"provisioningState\": \"Succeeded\"\n",
      "  },\n",
      "  \"tags\": null,\n",
      "  \"type\": \"Microsoft.Resources/resourceGroups\"\n",
      "}\n",
      "\u001b[0m"
     ]
    }
   ],
   "source": [
    "!az group create -n $RG -l $LOC"
   ]
  },
  {
   "cell_type": "code",
   "execution_count": 9,
   "metadata": {},
   "outputs": [
    {
     "name": "stdout",
     "output_type": "stream",
     "text": [
      "\u001b[K - Finished ..principal creation[##################################]  100.0000%{\n",
      "  \"aadProfile\": null,\n",
      "  \"addonProfiles\": null,\n",
      "  \"agentPoolProfiles\": [\n",
      "    {\n",
      "      \"availabilityZones\": null,\n",
      "      \"count\": 3,\n",
      "      \"enableAutoScaling\": true,\n",
      "      \"enableNodePublicIp\": null,\n",
      "      \"maxCount\": 100,\n",
      "      \"maxPods\": 110,\n",
      "      \"minCount\": 3,\n",
      "      \"name\": \"nodepool1\",\n",
      "      \"nodeLabels\": null,\n",
      "      \"nodeTaints\": null,\n",
      "      \"orchestratorVersion\": \"1.15.10\",\n",
      "      \"osDiskSizeGb\": 100,\n",
      "      \"osType\": \"Linux\",\n",
      "      \"provisioningState\": \"Succeeded\",\n",
      "      \"scaleSetEvictionPolicy\": null,\n",
      "      \"scaleSetPriority\": null,\n",
      "      \"tags\": null,\n",
      "      \"type\": \"VirtualMachineScaleSets\",\n",
      "      \"vmSize\": \"STANDARD_DS12_V2\",\n",
      "      \"vnetSubnetId\": null\n",
      "    }\n",
      "  ],\n",
      "  \"apiServerAccessProfile\": null,\n",
      "  \"dnsPrefix\": \"cody-image-cody-image-rg-656057\",\n",
      "  \"enablePodSecurityPolicy\": null,\n",
      "  \"enableRbac\": true,\n",
      "  \"fqdn\": \"cody-image-cody-image-rg-656057-9c27a87c.hcp.westus2.azmk8s.io\",\n",
      "  \"id\": \"/subscriptions/6560575d-fa06-4e7d-95fb-f962e74efd7a/resourcegroups/cody-image-rg/providers/Microsoft.ContainerService/managedClusters/cody-image\",\n",
      "  \"identity\": null,\n",
      "  \"identityProfile\": null,\n",
      "  \"kubernetesVersion\": \"1.15.10\",\n",
      "  \"linuxProfile\": {\n",
      "    \"adminUsername\": \"azureuser\",\n",
      "    \"ssh\": {\n",
      "      \"publicKeys\": [\n",
      "        {\n",
      "          \"keyData\": \"ssh-rsa AAAAB3NzaC1yc2EAAAADAQABAAABAQCoEvwFTVMDaGUt6ex4T6bQRQLcLfPoB4YNxmCRRaSiEsyQoMPSg/jv+tcRSJtsdvlI2brveHjfcLbKtmvxCkEzh9/fZRnaInHU07TqwJyk/ATqQIE1XSNXujZVCjpJBuMHxa1Go54gYHmYla037OUU3Mnl/2ETWnSG3iwD4rcYjknWTwV2oQXo7hvp2+Cb/TK7f6MJja3PV7TD3/uv0K65K4wCX/sNL1ZbnE4beH1HY/N9oLIWmoV1ZuzT1yreyDNU1ssnPwyGv5Z1b0x4AxnZPdqnT/xUN/yX+2zmFWxNLDoF8Y2K7TjJtrGYzhCZdjo2Url9tTbLH12LyVy14RVl\"\n",
      "        }\n",
      "      ]\n",
      "    }\n",
      "  },\n",
      "  \"location\": \"westus2\",\n",
      "  \"maxAgentPools\": 10,\n",
      "  \"name\": \"cody-image\",\n",
      "  \"networkProfile\": {\n",
      "    \"dnsServiceIp\": \"10.0.0.10\",\n",
      "    \"dockerBridgeCidr\": \"172.17.0.1/16\",\n",
      "    \"loadBalancerProfile\": {\n",
      "      \"allocatedOutboundPorts\": null,\n",
      "      \"effectiveOutboundIps\": [\n",
      "        {\n",
      "          \"id\": \"/subscriptions/6560575d-fa06-4e7d-95fb-f962e74efd7a/resourceGroups/MC_cody-image-rg_cody-image_westus2/providers/Microsoft.Network/publicIPAddresses/1bec5293-0cfc-491f-ab59-fca8339b1de5\",\n",
      "          \"resourceGroup\": \"MC_cody-image-rg_cody-image_westus2\"\n",
      "        }\n",
      "      ],\n",
      "      \"idleTimeoutInMinutes\": null,\n",
      "      \"managedOutboundIps\": {\n",
      "        \"count\": 1\n",
      "      },\n",
      "      \"outboundIpPrefixes\": null,\n",
      "      \"outboundIps\": null\n",
      "    },\n",
      "    \"loadBalancerSku\": \"Standard\",\n",
      "    \"networkPlugin\": \"kubenet\",\n",
      "    \"networkPolicy\": null,\n",
      "    \"outboundType\": \"loadBalancer\",\n",
      "    \"podCidr\": \"10.244.0.0/16\",\n",
      "    \"serviceCidr\": \"10.0.0.0/16\"\n",
      "  },\n",
      "  \"nodeResourceGroup\": \"MC_cody-image-rg_cody-image_westus2\",\n",
      "  \"privateFqdn\": null,\n",
      "  \"provisioningState\": \"Succeeded\",\n",
      "  \"resourceGroup\": \"cody-image-rg\",\n",
      "  \"servicePrincipalProfile\": {\n",
      "    \"clientId\": \"54de06e3-facd-4c05-b385-02b9b3dd6590\",\n",
      "    \"secret\": null\n",
      "  },\n",
      "  \"tags\": null,\n",
      "  \"type\": \"Microsoft.ContainerService/ManagedClusters\",\n",
      "  \"windowsProfile\": null\n",
      "}\n",
      "\u001b[0m"
     ]
    }
   ],
   "source": [
    "!az aks create -n $AKS -g $RG --generate-ssh-keys --node-vm-size $VM --enable-cluster-autoscaler --min-count $MIN --max-count $MAX"
   ]
  },
  {
   "cell_type": "code",
   "execution_count": 10,
   "metadata": {},
   "outputs": [
    {
     "name": "stdout",
     "output_type": "stream",
     "text": [
      "{\n",
      "  \"aadProfile\": null,\n",
      "  \"addonProfiles\": null,\n",
      "  \"agentPoolProfiles\": [\n",
      "    {\n",
      "      \"availabilityZones\": null,\n",
      "      \"count\": 3,\n",
      "      \"enableAutoScaling\": true,\n",
      "      \"enableNodePublicIp\": null,\n",
      "      \"maxCount\": 100,\n",
      "      \"maxPods\": 110,\n",
      "      \"minCount\": 3,\n",
      "      \"name\": \"nodepool1\",\n",
      "      \"nodeLabels\": null,\n",
      "      \"nodeTaints\": null,\n",
      "      \"orchestratorVersion\": \"1.15.10\",\n",
      "      \"osDiskSizeGb\": 100,\n",
      "      \"osType\": \"Linux\",\n",
      "      \"provisioningState\": \"Succeeded\",\n",
      "      \"scaleSetEvictionPolicy\": null,\n",
      "      \"scaleSetPriority\": null,\n",
      "      \"tags\": null,\n",
      "      \"type\": \"VirtualMachineScaleSets\",\n",
      "      \"vmSize\": \"STANDARD_DS12_V2\"\n",
      "    }\n",
      "  ],\n",
      "  \"apiServerAccessProfile\": null,\n",
      "  \"dnsPrefix\": \"cody-image-cody-image-rg-656057\",\n",
      "  \"enablePodSecurityPolicy\": null,\n",
      "  \"enableRbac\": true,\n",
      "  \"fqdn\": \"cody-image-cody-image-rg-656057-9c27a87c.hcp.westus2.azmk8s.io\",\n",
      "  \"id\": \"/subscriptions/6560575d-fa06-4e7d-95fb-f962e74efd7a/resourcegroups/cody-image-rg/providers/Microsoft.ContainerService/managedClusters/cody-image\",\n",
      "  \"identity\": null,\n",
      "  \"identityProfile\": null,\n",
      "  \"kubernetesVersion\": \"1.15.10\",\n",
      "  \"linuxProfile\": {\n",
      "    \"adminUsername\": \"azureuser\",\n",
      "    \"ssh\": {\n",
      "      \"publicKeys\": [\n",
      "        {\n",
      "          \"keyData\": \"ssh-rsa AAAAB3NzaC1yc2EAAAADAQABAAABAQCoEvwFTVMDaGUt6ex4T6bQRQLcLfPoB4YNxmCRRaSiEsyQoMPSg/jv+tcRSJtsdvlI2brveHjfcLbKtmvxCkEzh9/fZRnaInHU07TqwJyk/ATqQIE1XSNXujZVCjpJBuMHxa1Go54gYHmYla037OUU3Mnl/2ETWnSG3iwD4rcYjknWTwV2oQXo7hvp2+Cb/TK7f6MJja3PV7TD3/uv0K65K4wCX/sNL1ZbnE4beH1HY/N9oLIWmoV1ZuzT1yreyDNU1ssnPwyGv5Z1b0x4AxnZPdqnT/xUN/yX+2zmFWxNLDoF8Y2K7TjJtrGYzhCZdjo2Url9tTbLH12LyVy14RVl\"\n",
      "        }\n",
      "      ]\n",
      "    }\n",
      "  },\n",
      "  \"location\": \"westus2\",\n",
      "  \"maxAgentPools\": 10,\n",
      "  \"name\": \"cody-image\",\n",
      "  \"networkProfile\": {\n",
      "    \"dnsServiceIp\": \"10.0.0.10\",\n",
      "    \"dockerBridgeCidr\": \"172.17.0.1/16\",\n",
      "    \"loadBalancerProfile\": {\n",
      "      \"allocatedOutboundPorts\": null,\n",
      "      \"effectiveOutboundIps\": [\n",
      "        {\n",
      "          \"id\": \"/subscriptions/6560575d-fa06-4e7d-95fb-f962e74efd7a/resourceGroups/MC_cody-image-rg_cody-image_westus2/providers/Microsoft.Network/publicIPAddresses/1bec5293-0cfc-491f-ab59-fca8339b1de5\",\n",
      "          \"resourceGroup\": \"MC_cody-image-rg_cody-image_westus2\"\n",
      "        }\n",
      "      ],\n",
      "      \"idleTimeoutInMinutes\": null,\n",
      "      \"managedOutboundIps\": {\n",
      "        \"count\": 1\n",
      "      },\n",
      "      \"outboundIpPrefixes\": null,\n",
      "      \"outboundIps\": null\n",
      "    },\n",
      "    \"loadBalancerSku\": \"Standard\",\n",
      "    \"networkPlugin\": \"kubenet\",\n",
      "    \"networkPolicy\": null,\n",
      "    \"outboundType\": \"loadBalancer\",\n",
      "    \"podCidr\": \"10.244.0.0/16\",\n",
      "    \"serviceCidr\": \"10.0.0.0/16\"\n",
      "  },\n",
      "  \"nodeResourceGroup\": \"MC_cody-image-rg_cody-image_westus2\",\n",
      "  \"privateFqdn\": null,\n",
      "  \"provisioningState\": \"Succeeded\",\n",
      "  \"resourceGroup\": \"cody-image-rg\",\n",
      "  \"servicePrincipalProfile\": {\n",
      "    \"clientId\": \"54de06e3-facd-4c05-b385-02b9b3dd6590\"\n",
      "  },\n",
      "  \"type\": \"Microsoft.ContainerService/ManagedClusters\",\n",
      "  \"windowsProfile\": null\n",
      "}\n",
      "\u001b[0m"
     ]
    }
   ],
   "source": [
    "!az aks show -n $AKS -g $RG "
   ]
  },
  {
   "cell_type": "code",
   "execution_count": 11,
   "metadata": {},
   "outputs": [
    {
     "name": "stdout",
     "output_type": "stream",
     "text": [
      "Merged \"cody-image\" as current context in /home/azureuser/.kube/config\n",
      "\u001b[0m"
     ]
    }
   ],
   "source": [
    "!az aks get-credentials -n $AKS -g $RG --overwrite-existing"
   ]
  },
  {
   "cell_type": "code",
   "execution_count": 12,
   "metadata": {},
   "outputs": [
    {
     "name": "stdout",
     "output_type": "stream",
     "text": [
      "serviceaccount/tiller created\n"
     ]
    }
   ],
   "source": [
    "!kubectl --namespace kube-system create serviceaccount tiller"
   ]
  },
  {
   "cell_type": "code",
   "execution_count": 13,
   "metadata": {},
   "outputs": [
    {
     "name": "stdout",
     "output_type": "stream",
     "text": [
      "clusterrolebinding.rbac.authorization.k8s.io/tiller created\n"
     ]
    }
   ],
   "source": [
    "!kubectl create clusterrolebinding tiller --clusterrole cluster-admin --serviceaccount=kube-system:tiller"
   ]
  },
  {
   "cell_type": "code",
   "execution_count": 14,
   "metadata": {},
   "outputs": [
    {
     "name": "stdout",
     "output_type": "stream",
     "text": [
      "$HELM_HOME has been configured at /home/azureuser/.helm.\n",
      "\n",
      "Tiller (the Helm server-side component) has been installed into your Kubernetes Cluster.\n",
      "\n",
      "Please note: by default, Tiller is deployed with an insecure 'allow unauthenticated users' policy.\n",
      "To prevent this, run `helm init` with the --tiller-tls-verify flag.\n",
      "For more information on securing your installation see: https://docs.helm.sh/using_helm/#securing-your-helm-installation\n"
     ]
    }
   ],
   "source": [
    "!helm init --service-account tiller --history-max 100 --wait"
   ]
  },
  {
   "cell_type": "code",
   "execution_count": 15,
   "metadata": {},
   "outputs": [
    {
     "name": "stdout",
     "output_type": "stream",
     "text": [
      "deployment.extensions/tiller-deploy patched\n"
     ]
    }
   ],
   "source": [
    "!kubectl patch deployment tiller-deploy --namespace=kube-system --type=json --patch='[{\"op\": \"add\", \"path\": \"/spec/template/spec/containers/0/command\", \"value\": [\"/tiller\", \"--listen=localhost:44134\"]}]'"
   ]
  },
  {
   "cell_type": "code",
   "execution_count": 16,
   "metadata": {},
   "outputs": [
    {
     "name": "stdout",
     "output_type": "stream",
     "text": [
      "Client: &version.Version{SemVer:\"v2.16.3\", GitCommit:\"1ee0254c86d4ed6887327dabed7aa7da29d7eb0d\", GitTreeState:\"clean\"}\n",
      "Server: &version.Version{SemVer:\"v2.16.3\", GitCommit:\"1ee0254c86d4ed6887327dabed7aa7da29d7eb0d\", GitTreeState:\"clean\"}\n"
     ]
    }
   ],
   "source": [
    "!helm version"
   ]
  },
  {
   "cell_type": "code",
   "execution_count": 17,
   "metadata": {},
   "outputs": [
    {
     "name": "stdout",
     "output_type": "stream",
     "text": [
      "\"dask-gateway\" has been added to your repositories\n"
     ]
    }
   ],
   "source": [
    "!helm repo add dask-gateway https://dask.org/dask-gateway-helm-repo"
   ]
  },
  {
   "cell_type": "code",
   "execution_count": 18,
   "metadata": {},
   "outputs": [
    {
     "name": "stdout",
     "output_type": "stream",
     "text": [
      "Hang tight while we grab the latest from your chart repositories...\n",
      "...Skip local chart repository\n",
      "...Successfully got an update from the \"dask-gateway\" chart repository\n",
      "...Successfully got an update from the \"stable\" chart repository\n",
      "Update Complete.\n"
     ]
    }
   ],
   "source": [
    "!helm repo update"
   ]
  },
  {
   "cell_type": "code",
   "execution_count": 19,
   "metadata": {},
   "outputs": [],
   "source": [
    "import secrets\n",
    "\n",
    "to_write = f\"\"\"\n",
    "gateway:\n",
    "  proxyToken: {secrets.token_hex(32)}\n",
    "    \n",
    "clusterManager:\n",
    "  image:\n",
    "    name: daskdev/dask\n",
    "    pullPolicy: IfNotPresent\n",
    "\n",
    "  scheduler:\n",
    "    cores:\n",
    "      request: 8\n",
    "      limit: 8\n",
    "    memory:\n",
    "      request: 112G\n",
    "      limit: 112G\n",
    "            \n",
    "  worker:\n",
    "    cores:\n",
    "      request: 8\n",
    "      limit: 8  \n",
    "    memory:\n",
    "      request: 112G\n",
    "      limit: 112G\n",
    "\"\"\".lstrip()\n",
    "\n",
    "with open('config.yaml', 'w') as f:\n",
    "    f.write(to_write)"
   ]
  },
  {
   "cell_type": "code",
   "execution_count": 20,
   "metadata": {},
   "outputs": [
    {
     "name": "stdout",
     "output_type": "stream",
     "text": [
      "Release \"dask-gateway\" does not exist. Installing it now.\n",
      "NAME:   dask-gateway\n",
      "LAST DEPLOYED: Sun Mar 22 02:44:07 2020\n",
      "NAMESPACE: dask-gateway\n",
      "STATUS: DEPLOYED\n",
      "\n",
      "RESOURCES:\n",
      "==> v1/ConfigMap\n",
      "NAME          AGE\n",
      "dask-gateway  0s\n",
      "\n",
      "==> v1/Deployment\n",
      "NAME                          AGE\n",
      "gateway-dask-gateway          0s\n",
      "scheduler-proxy-dask-gateway  0s\n",
      "web-proxy-dask-gateway        0s\n",
      "\n",
      "==> v1/Pod(related)\n",
      "NAME                                           AGE\n",
      "gateway-dask-gateway-6f66d8d5f7-6nd8d          0s\n",
      "scheduler-proxy-dask-gateway-5c88c8f676-xfzks  0s\n",
      "web-proxy-dask-gateway-8588fdc49b-9prqh        0s\n",
      "\n",
      "==> v1/Role\n",
      "NAME          AGE\n",
      "dask-gateway  0s\n",
      "\n",
      "==> v1/RoleBinding\n",
      "NAME          AGE\n",
      "dask-gateway  0s\n",
      "\n",
      "==> v1/Secret\n",
      "NAME          AGE\n",
      "dask-gateway  0s\n",
      "\n",
      "==> v1/Service\n",
      "NAME                           AGE\n",
      "gateway-api-dask-gateway       0s\n",
      "scheduler-api-dask-gateway     0s\n",
      "scheduler-public-dask-gateway  0s\n",
      "web-api-dask-gateway           0s\n",
      "web-public-dask-gateway        0s\n",
      "\n",
      "==> v1/ServiceAccount\n",
      "NAME          AGE\n",
      "dask-gateway  0s\n",
      "\n",
      "\n",
      "NOTES:\n",
      "You've installed Dask-Gateway version 0.6.1, from chart\n",
      "version 0.6.1!\n",
      "\n",
      "Your release is named \"dask-gateway\" and installed into the\n",
      "namespace \"dask-gateway\".\n",
      "\n",
      "You can find the public address of Dask-Gateway at:\n",
      "\n",
      "  $ kubectl --namespace=dask-gateway get service web-public-dask-gateway\n",
      "\n",
      "Likewise, the public address of for the scheduler proxy is at:\n",
      "\n",
      "  $ kubectl --namespace=dask-gateway get service scheduler-public-dask-gateway\n",
      "\n"
     ]
    }
   ],
   "source": [
    "!helm upgrade --install --namespace $DG --version $DGV --values config.yaml $DG dask-gateway/dask-gateway"
   ]
  },
  {
   "cell_type": "code",
   "execution_count": 23,
   "metadata": {},
   "outputs": [
    {
     "name": "stdout",
     "output_type": "stream",
     "text": [
      "NAME                            TYPE           CLUSTER-IP     EXTERNAL-IP     PORT(S)          AGE\n",
      "gateway-api-dask-gateway        ClusterIP      10.0.15.25     <none>          8001/TCP         57s\n",
      "scheduler-api-dask-gateway      ClusterIP      10.0.230.137   <none>          8001/TCP         57s\n",
      "scheduler-public-dask-gateway   LoadBalancer   10.0.241.44    52.143.82.133   8786:31880/TCP   57s\n",
      "web-api-dask-gateway            ClusterIP      10.0.212.209   <none>          8001/TCP         57s\n",
      "web-public-dask-gateway         LoadBalancer   10.0.8.44      52.143.86.145   80:32597/TCP     57s\n"
     ]
    }
   ],
   "source": [
    "!kubectl get service --namespace dask-gateway"
   ]
  },
  {
   "cell_type": "code",
   "execution_count": 25,
   "metadata": {},
   "outputs": [],
   "source": [
    "from dask_gateway import Gateway"
   ]
  },
  {
   "cell_type": "code",
   "execution_count": 28,
   "metadata": {},
   "outputs": [],
   "source": [
    "gateway = Gateway('http://52.143.86.145', proxy_address='tls://52.143.82.133:8786')"
   ]
  },
  {
   "cell_type": "code",
   "execution_count": 29,
   "metadata": {},
   "outputs": [
    {
     "data": {
      "text/plain": [
       "[]"
      ]
     },
     "execution_count": 29,
     "metadata": {},
     "output_type": "execute_result"
    }
   ],
   "source": [
    "gateway.list_clusters()"
   ]
  },
  {
   "cell_type": "code",
   "execution_count": 30,
   "metadata": {},
   "outputs": [],
   "source": [
    "cluster = gateway.new_cluster()"
   ]
  },
  {
   "cell_type": "code",
   "execution_count": null,
   "metadata": {},
   "outputs": [],
   "source": [
    "help(gateway.new_cluster)"
   ]
  },
  {
   "cell_type": "code",
   "execution_count": 31,
   "metadata": {},
   "outputs": [
    {
     "data": {
      "application/vnd.jupyter.widget-view+json": {
       "model_id": "adb978b949924e19acc1a5b54f821e91",
       "version_major": 2,
       "version_minor": 0
      },
      "text/plain": [
       "VBox(children=(HTML(value='<h2>GatewayCluster</h2>'), HBox(children=(HTML(value='\\n<div>\\n<style scoped>\\n    …"
      ]
     },
     "metadata": {},
     "output_type": "display_data"
    }
   ],
   "source": [
    "cluster"
   ]
  },
  {
   "cell_type": "code",
   "execution_count": 32,
   "metadata": {},
   "outputs": [
    {
     "data": {
      "text/html": [
       "<table style=\"border: 2px solid white;\">\n",
       "<tr>\n",
       "<td style=\"vertical-align: top; border: 0px solid white\">\n",
       "<h3 style=\"text-align: left;\">Client</h3>\n",
       "<ul style=\"text-align: left; list-style: none; margin: 0; padding: 0;\">\n",
       "  <li><b>Scheduler: </b>gateway://52.143.82.133:8786/e2e5416d7cf14081bed1922e60060329</li>\n",
       "  <li><b>Dashboard: </b><a href='http://52.143.82.133:46481/status' target='_blank'>http://52.143.82.133:46481/status</a>\n",
       "</ul>\n",
       "</td>\n",
       "<td style=\"vertical-align: top; border: 0px solid white\">\n",
       "<h3 style=\"text-align: left;\">Cluster</h3>\n",
       "<ul style=\"text-align: left; list-style:none; margin: 0; padding: 0;\">\n",
       "  <li><b>Workers: </b>0</li>\n",
       "  <li><b>Cores: </b>0</li>\n",
       "  <li><b>Memory: </b>0 B</li>\n",
       "</ul>\n",
       "</td>\n",
       "</tr>\n",
       "</table>"
      ],
      "text/plain": [
       "<Client: 'tls://10.244.1.5:37829' processes=0 threads=0, memory=0 B>"
      ]
     },
     "execution_count": 32,
     "metadata": {},
     "output_type": "execute_result"
    }
   ],
   "source": [
    "c = cluster.get_client()\n",
    "c"
   ]
  },
  {
   "cell_type": "code",
   "execution_count": 33,
   "metadata": {},
   "outputs": [],
   "source": [
    "cluster.scale(1)"
   ]
  },
  {
   "cell_type": "code",
   "execution_count": 34,
   "metadata": {},
   "outputs": [],
   "source": [
    "cluster.scale(20)"
   ]
  },
  {
   "cell_type": "code",
   "execution_count": null,
   "metadata": {},
   "outputs": [],
   "source": []
  },
  {
   "cell_type": "code",
   "execution_count": null,
   "metadata": {},
   "outputs": [],
   "source": []
  },
  {
   "cell_type": "code",
   "execution_count": null,
   "metadata": {},
   "outputs": [],
   "source": []
  },
  {
   "cell_type": "code",
   "execution_count": 35,
   "metadata": {},
   "outputs": [],
   "source": [
    "options = gateway.cluster_options()"
   ]
  },
  {
   "cell_type": "code",
   "execution_count": 36,
   "metadata": {},
   "outputs": [],
   "source": [
    "import dask"
   ]
  },
  {
   "cell_type": "code",
   "execution_count": 37,
   "metadata": {},
   "outputs": [],
   "source": [
    "@dask.delayed\n",
    "def testing():\n",
    "    return 'hi'"
   ]
  },
  {
   "cell_type": "code",
   "execution_count": 38,
   "metadata": {},
   "outputs": [
    {
     "data": {
      "text/plain": [
       "'hi'"
      ]
     },
     "execution_count": 38,
     "metadata": {},
     "output_type": "execute_result"
    }
   ],
   "source": [
    "testing().compute()"
   ]
  },
  {
   "cell_type": "code",
   "execution_count": 39,
   "metadata": {},
   "outputs": [],
   "source": [
    "cluster.shutdown()"
   ]
  },
  {
   "cell_type": "code",
   "execution_count": null,
   "metadata": {},
   "outputs": [
    {
     "name": "stdout",
     "output_type": "stream",
     "text": [
      "\u001b[0m"
     ]
    }
   ],
   "source": [
    "!az group delete -n $RG --no-wait -y"
   ]
  },
  {
   "cell_type": "code",
   "execution_count": null,
   "metadata": {},
   "outputs": [],
   "source": []
  },
  {
   "cell_type": "code",
   "execution_count": null,
   "metadata": {},
   "outputs": [],
   "source": []
  },
  {
   "cell_type": "code",
   "execution_count": null,
   "metadata": {},
   "outputs": [],
   "source": []
  },
  {
   "cell_type": "code",
   "execution_count": null,
   "metadata": {},
   "outputs": [],
   "source": []
  },
  {
   "cell_type": "code",
   "execution_count": null,
   "metadata": {},
   "outputs": [],
   "source": []
  },
  {
   "cell_type": "code",
   "execution_count": null,
   "metadata": {},
   "outputs": [],
   "source": [
    "from dask_kubernetes import KubeCluster, make_pod_spec"
   ]
  },
  {
   "cell_type": "code",
   "execution_count": null,
   "metadata": {},
   "outputs": [],
   "source": [
    "pod_spec = make_pod_spec(image='daskdev/dask:latest',\n",
    "                          memory_limit='1G', memory_request='1G',\n",
    "                          cpu_limit=1, cpu_request=1,\n",
    "                          env={'EXTRA_PIP_PACKAGES': 'dask-lightgbm'}\n",
    "                        ) "
   ]
  },
  {
   "cell_type": "code",
   "execution_count": null,
   "metadata": {},
   "outputs": [],
   "source": [
    "cluster = KubeCluster(pod_spec)"
   ]
  },
  {
   "cell_type": "code",
   "execution_count": null,
   "metadata": {},
   "outputs": [],
   "source": [
    "cluster"
   ]
  },
  {
   "cell_type": "code",
   "execution_count": null,
   "metadata": {},
   "outputs": [],
   "source": [
    "cluster.scale(10)"
   ]
  },
  {
   "cell_type": "code",
   "execution_count": null,
   "metadata": {},
   "outputs": [],
   "source": [
    "from dask.distributed import Client"
   ]
  },
  {
   "cell_type": "code",
   "execution_count": null,
   "metadata": {},
   "outputs": [],
   "source": [
    "c = Client(cluster)"
   ]
  },
  {
   "cell_type": "code",
   "execution_count": null,
   "metadata": {},
   "outputs": [],
   "source": [
    "c"
   ]
  },
  {
   "cell_type": "code",
   "execution_count": null,
   "metadata": {},
   "outputs": [],
   "source": [
    "c.get_versions(check=True)"
   ]
  },
  {
   "cell_type": "code",
   "execution_count": null,
   "metadata": {},
   "outputs": [],
   "source": [
    "import dask"
   ]
  },
  {
   "cell_type": "code",
   "execution_count": null,
   "metadata": {},
   "outputs": [],
   "source": [
    "@dask.delayed\n",
    "def testing():\n",
    "    print('hi')"
   ]
  },
  {
   "cell_type": "code",
   "execution_count": null,
   "metadata": {},
   "outputs": [],
   "source": [
    "testing().compute()"
   ]
  },
  {
   "cell_type": "code",
   "execution_count": null,
   "metadata": {},
   "outputs": [],
   "source": [
    "cluster.close()"
   ]
  }
 ],
 "metadata": {
  "kernelspec": {
   "display_name": "Python 3.6 - AzureML",
   "language": "python",
   "name": "python3-azureml"
  },
  "language_info": {
   "codemirror_mode": {
    "name": "ipython",
    "version": 3
   },
   "file_extension": ".py",
   "mimetype": "text/x-python",
   "name": "python",
   "nbconvert_exporter": "python",
   "pygments_lexer": "ipython3",
   "version": "3.6.9"
  }
 },
 "nbformat": 4,
 "nbformat_minor": 4
}
