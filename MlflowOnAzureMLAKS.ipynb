{
 "cells": [
  {
   "cell_type": "code",
   "execution_count": 46,
   "metadata": {},
   "outputs": [],
   "source": [
    "import json\n",
    "import time\n",
    "import mlflow\n",
    "import subprocess\n",
    "\n",
    "from azureml.core import Workspace, Experiment\n",
    "from azureml.core.authentication import ArmTokenAuthentication\n",
    "from azureml.core.compute.aks import AksCompute\n",
    "from azureml.mlflow import get_portal_url\n",
    "\n",
    "ws = Workspace.from_config()\n",
    "experiment_name = \"mlflow_on_azureml_aks\"\n",
    "\n",
    "# We will need to update our auth story for the remote setting.\n",
    "ws._auth = ArmTokenAuthentication(ws.service_context.get_auth()._get_arm_token())"
   ]
  },
  {
   "cell_type": "code",
   "execution_count": 47,
   "metadata": {},
   "outputs": [],
   "source": [
    "mlflow.set_tracking_uri(ws.get_mlflow_tracking_uri())\n",
    "mlflow.set_experiment(experiment_name)"
   ]
  },
  {
   "cell_type": "code",
   "execution_count": 48,
   "metadata": {},
   "outputs": [],
   "source": [
    "# Get or create AKS cluster\n",
    "compute_name = \"aks-comute-name\"  # Typos persist :(\n",
    "try:\n",
    "    aks_compute = ws.compute_targets[compute_name]\n",
    "except KeyError:\n",
    "    aks_compute = AksCompute.create(ws,  compute_name, AksCompute.provisioning_configuration())\n",
    "    aks_compute.wait_for_completion()"
   ]
  },
  {
   "cell_type": "code",
   "execution_count": 49,
   "metadata": {},
   "outputs": [
    {
     "name": "stdout",
     "output_type": "stream",
     "text": [
      "Writing Dockerfile\n"
     ]
    }
   ],
   "source": [
    "%%writefile Dockerfile\n",
    "FROM continuumio/miniconda3:latest\n",
    "\n",
    "RUN pip install azureml-mlflow mlflow==1.4\n"
   ]
  },
  {
   "cell_type": "code",
   "execution_count": 57,
   "metadata": {},
   "outputs": [
    {
     "name": "stdout",
     "output_type": "stream",
     "text": [
      "Writing kubernetes_job_template.yaml\n"
     ]
    }
   ],
   "source": [
    "%%writefile kubernetes_job_template.yaml\n",
    "apiVersion: batch/v1\n",
    "kind: Job\n",
    "metadata:\n",
    "  name: \"{replaced with MLflow Project name}\"\n",
    "  namespace: default\n",
    "spec:\n",
    "  ttlSecondsAfterFinished: 100\n",
    "  backoffLimit: 0\n",
    "  template:\n",
    "    spec:\n",
    "      containers:\n",
    "        - name: \"{replaced with MLflow Project name}\" \n",
    "          image: \"{replaced with URI of Docker image created during Project execution}\"\n",
    "          command: [\"{replaced with MLflow Project entry point command}\"]\n",
    "      restartPolicy: Never \n"
   ]
  },
  {
   "cell_type": "code",
   "execution_count": 51,
   "metadata": {},
   "outputs": [
    {
     "name": "stdout",
     "output_type": "stream",
     "text": [
      "Writing MLproject\n"
     ]
    }
   ],
   "source": [
    "%%writefile MLproject\n",
    "name: diffpriv-sql\n",
    "\n",
    "\n",
    "docker_env:\n",
    "  image:  mlflow-docker-example\n",
    "\n",
    "entry_points:\n",
    "  main:\n",
    "    command: \"python run_query.py\"\n"
   ]
  },
  {
   "cell_type": "code",
   "execution_count": 52,
   "metadata": {},
   "outputs": [
    {
     "name": "stdout",
     "output_type": "stream",
     "text": [
      "Writing run_query.py\n"
     ]
    }
   ],
   "source": [
    "%%writefile run_query.py\n",
    "import os\n",
    "print(os.environ)\n",
    "import mlflow\n",
    "\n",
    "with mlflow.start_run():\n",
    "    mlflow.log_metric(\"hi\", 4)"
   ]
  },
  {
   "cell_type": "code",
   "execution_count": 53,
   "metadata": {},
   "outputs": [
    {
     "data": {
      "text/plain": [
       "['.ipynb_checkpoints',\n",
       " 'cache',\n",
       " 'Dockerfile',\n",
       " 'execute_on_aks.py',\n",
       " 'kuberenetes_job_template.yaml',\n",
       " 'MlflowOnAzureMLAKS.ipynb',\n",
       " 'MLproject',\n",
       " 'outputs',\n",
       " 'run_query.py']"
      ]
     },
     "execution_count": 53,
     "metadata": {},
     "output_type": "execute_result"
    }
   ],
   "source": [
    "import os\n",
    "os.listdir()"
   ]
  },
  {
   "cell_type": "code",
   "execution_count": 54,
   "metadata": {},
   "outputs": [],
   "source": [
    "kube_details = aks_compute.serialize()[\"properties\"]\n",
    "kube_context = kube_details[\"resourceId\"].split(\"/\")[-1]\n",
    "repository_uri = \"eddeleon/test\"\n",
    "kube_config = {\n",
    "            \"kube-context\": kube_context,\n",
    "            \"kube-job-template-path\": \"kubernetes_job_template.yaml\",\n",
    "            \"repository-uri\": repository_uri\n",
    "            }\n",
    "backend_config = \"kubernetes_config_new.json\"\n",
    "with open(backend_config, \"w\") as stream:\n",
    "    json.dump(kube_config, stream)"
   ]
  },
  {
   "cell_type": "code",
   "execution_count": 55,
   "metadata": {},
   "outputs": [
    {
     "name": "stdout",
     "output_type": "stream",
     "text": [
      "Switched to context \"aks-comute-name30b94132\".\n"
     ]
    }
   ],
   "source": [
    "!kubectl config use-context {kube_context}"
   ]
  },
  {
   "cell_type": "code",
   "execution_count": 60,
   "metadata": {},
   "outputs": [
    {
     "name": "stderr",
     "output_type": "stream",
     "text": [
      "2020/03/23 01:07:47 INFO mlflow.projects: === Building docker image eddeleon/test:d4d9198 ===\n",
      "2020/03/23 01:07:49 INFO mlflow.projects: Temporary docker context file C:\\Users\\eddeleon\\AppData\\Local\\Temp\\tmpgaoj3cpv was not deleted.\n",
      "2020/03/23 01:07:50 INFO mlflow.projects.kubernetes: === Pushing docker image eddeleon/test:d4d9198 ===\n",
      "2020/03/23 01:08:09 INFO mlflow.projects: === Created directory C:\\Users\\eddeleon\\AppData\\Local\\Temp\\tmp11elwctx for downloading remote URIs passed to arguments of type 'path' ===\n",
      "2020/03/23 01:08:09 INFO mlflow.projects.kubernetes: === Creating Job diffpriv-sql-2020-03-23-01-08-09-282310 ===\n",
      "2020/03/23 01:08:10 INFO mlflow.projects.kubernetes: Job started.\n",
      "2020/03/23 01:08:16 INFO mlflow.projects.kubernetes: None\n",
      "2020/03/23 01:08:16 INFO mlflow.projects: === Run (ID 'cf5fece4-3101-4f73-b1cf-987eb2cdd4c8') succeeded ===\n"
     ]
    },
    {
     "name": "stdout",
     "output_type": "stream",
     "text": [
      "Duration: 38.10667896270752 s\n",
      "https://mlworkspace.azure.ai/portal/subscriptions/ad203158-bc5d-4e72-b764-2607833a71dc/resourceGroups/akannava/providers/Microsoft.MachineLearningServices/workspaces/akannava/experiments/test/runs/cf5fece4-3101-4f73-b1cf-987eb2cdd4c8\n"
     ]
    }
   ],
   "source": [
    "start_time = time.time()\n",
    "mlflow_run = mlflow.projects.run(\"./\",\n",
    "                          experiment_name=\"test\",\n",
    "                          backend=\"kubernetes\",\n",
    "                          backend_config=backend_config)\n",
    "duration = time.time() - start_time\n",
    "print(\"Duration: {} s\".format(duration))\n",
    "print(get_portal_url(mlflow.get_run(mlflow_run.run_id)))"
   ]
  },
  {
   "cell_type": "code",
   "execution_count": 61,
   "metadata": {},
   "outputs": [
    {
     "name": "stdout",
     "output_type": "stream",
     "text": [
      "Duration: 33.14914894104004 s\n",
      "https://ml.azure.com/experiments/mlflow_on_azureml_aks/runs/mlflow_on_azureml_aks_1584940105_257fc3ba?wsid=/subscriptions/ad203158-bc5d-4e72-b764-2607833a71dc/resourcegroups/akannava/workspaces/akannava\n"
     ]
    }
   ],
   "source": [
    "from azureml.core import ScriptRunConfig  # local submit\n",
    "experiment = Experiment(ws, experiment_name)\n",
    "src = ScriptRunConfig(source_directory=\".\", script=\"run_query.py\")\n",
    "src.run_config.framework = 'python'\n",
    "src.run_config.environment.python.user_managed_dependencies = True\n",
    "start = time.time()\n",
    "local_run = experiment.submit(src)\n",
    "local_run.wait_for_completion()\n",
    "duration = time.time() - start\n",
    "print(\"Duration: {} s\".format(duration))\n",
    "print(local_run.get_portal_url())"
   ]
  },
  {
   "cell_type": "markdown",
   "metadata": {},
   "source": [
    "First few runs, aks took 30s, after a few submits it is taking ~40 s. Local run takes ~30s"
   ]
  },
  {
   "cell_type": "code",
   "execution_count": 29,
   "metadata": {},
   "outputs": [
    {
     "name": "stdout",
     "output_type": "stream",
     "text": [
      "NAMESPACE     NAME                                            READY   STATUS      RESTARTS   AGE\n",
      "default       azureml-ba-5d44c5d5f4-mkgff                     1/1     Running     0          5d22h\n",
      "default       azureml-fe-8697d5d7c-4mg9n                      2/2     Running     0          5d22h\n",
      "default       azureml-fe-8697d5d7c-8tcrh                      2/2     Running     0          5d22h\n",
      "default       azureml-fe-8697d5d7c-x9nk6                      2/2     Running     0          5d22h\n",
      "default       blobfuse-flexvol-installer-2ttmf                1/1     Running     0          5d22h\n",
      "default       blobfuse-flexvol-installer-dj69d                1/1     Running     0          5d22h\n",
      "default       blobfuse-flexvol-installer-x5mhp                1/1     Running     0          5d22h\n",
      "default       diffpriv-sql-2020-03-17-02-17-45-788809-79tcs   0/1     Error       0          5d22h\n",
      "default       diffpriv-sql-2020-03-17-02-17-45-788809-f8tpd   0/1     Error       0          5d22h\n",
      "default       diffpriv-sql-2020-03-17-02-17-45-788809-n22hf   0/1     Error       0          5d22h\n",
      "default       diffpriv-sql-2020-03-17-02-17-45-788809-r9mnk   0/1     Error       0          5d22h\n",
      "default       diffpriv-sql-2020-03-17-02-17-45-788809-rrt7v   0/1     Error       0          5d22h\n",
      "default       diffpriv-sql-2020-03-17-02-17-45-788809-w5wx9   0/1     Error       0          5d22h\n",
      "default       diffpriv-sql-2020-03-17-02-17-45-788809-xtsm9   0/1     Error       0          5d22h\n",
      "default       diffpriv-sql-2020-03-17-02-35-17-904097-k8r59   0/1     Error       0          5d22h\n",
      "default       diffpriv-sql-2020-03-17-02-38-22-945204-tg5wk   0/1     Completed   0          5d22h\n",
      "default       diffpriv-sql-2020-03-17-02-43-55-463447-4djtc   0/1     Error       0          5d20h\n",
      "default       diffpriv-sql-2020-03-17-02-43-55-463447-4m2w6   0/1     Error       0          5d21h\n",
      "default       diffpriv-sql-2020-03-17-02-43-55-463447-6257s   0/1     Error       0          5d21h\n",
      "default       diffpriv-sql-2020-03-17-02-43-55-463447-6lbd4   0/1     Error       0          5d20h\n",
      "default       diffpriv-sql-2020-03-17-02-43-55-463447-7krx8   0/1     Error       0          5d21h\n",
      "default       diffpriv-sql-2020-03-17-02-43-55-463447-7m264   0/1     Error       0          5d21h\n",
      "default       diffpriv-sql-2020-03-17-02-43-55-463447-7phfx   0/1     Error       0          5d20h\n",
      "default       diffpriv-sql-2020-03-17-02-43-55-463447-8pf6s   0/1     Error       0          5d20h\n",
      "default       diffpriv-sql-2020-03-17-02-43-55-463447-9m84h   0/1     Error       0          5d21h\n",
      "default       diffpriv-sql-2020-03-17-02-43-55-463447-9sttp   0/1     Error       0          5d21h\n",
      "default       diffpriv-sql-2020-03-17-02-43-55-463447-9w4hl   0/1     Error       0          5d21h\n",
      "default       diffpriv-sql-2020-03-17-02-43-55-463447-ds9vx   0/1     Error       0          5d20h\n",
      "default       diffpriv-sql-2020-03-17-02-43-55-463447-dtksj   0/1     Error       0          5d22h\n",
      "default       diffpriv-sql-2020-03-17-02-43-55-463447-dz9fq   0/1     Error       0          5d22h\n",
      "default       diffpriv-sql-2020-03-17-02-43-55-463447-g7lcv   0/1     Error       0          5d22h\n",
      "default       diffpriv-sql-2020-03-17-02-43-55-463447-gnstz   0/1     Error       0          5d22h\n",
      "default       diffpriv-sql-2020-03-17-02-43-55-463447-gvf7g   0/1     Error       0          5d21h\n",
      "default       diffpriv-sql-2020-03-17-02-43-55-463447-kjzfb   0/1     Error       0          5d22h\n",
      "default       diffpriv-sql-2020-03-17-02-43-55-463447-kqjph   0/1     Error       0          5d20h\n",
      "default       diffpriv-sql-2020-03-17-02-43-55-463447-ltgsk   0/1     Error       0          5d21h\n",
      "default       diffpriv-sql-2020-03-17-02-43-55-463447-p4r8h   0/1     Error       0          5d20h\n",
      "default       diffpriv-sql-2020-03-17-02-43-55-463447-pkgm9   0/1     Error       0          5d22h\n",
      "default       diffpriv-sql-2020-03-17-02-43-55-463447-t8sfv   0/1     Error       0          5d20h\n",
      "default       diffpriv-sql-2020-03-17-02-43-55-463447-tnkv7   0/1     Error       0          5d20h\n",
      "default       diffpriv-sql-2020-03-17-02-43-55-463447-tw5js   0/1     Error       0          5d20h\n",
      "default       diffpriv-sql-2020-03-17-02-43-55-463447-vq6xn   0/1     Error       0          5d21h\n",
      "default       diffpriv-sql-2020-03-17-02-43-55-463447-wr2v5   0/1     Error       0          5d22h\n",
      "default       diffpriv-sql-2020-03-17-02-50-09-585584-5tr9c   0/1     Error       0          5d22h\n",
      "default       diffpriv-sql-2020-03-17-02-52-39-599706-4qkqm   0/1     Completed   0          5d22h\n",
      "default       diffpriv-sql-2020-03-17-02-56-53-122792-m7g5k   0/1     Error       0          5d21h\n",
      "default       diffpriv-sql-2020-03-17-03-01-33-565494-tdl7h   0/1     Error       0          5d21h\n",
      "default       diffpriv-sql-2020-03-17-03-03-54-807934-rc5gz   0/1     Error       0          5d21h\n",
      "default       diffpriv-sql-2020-03-17-03-12-01-641837-sx7ls   0/1     Error       0          5d21h\n",
      "default       diffpriv-sql-2020-03-17-03-13-58-879264-sbsnn   0/1     Error       0          5d21h\n",
      "default       diffpriv-sql-2020-03-17-03-16-55-111135-gg78j   0/1     Error       0          5d21h\n",
      "default       diffpriv-sql-2020-03-17-11-10-54-549690-jcddb   0/1     Error       0          5d13h\n",
      "default       diffpriv-sql-2020-03-17-12-16-17-104946-sgzhg   0/1     Completed   0          5d12h\n",
      "default       diffpriv-sql-2020-03-17-19-09-12-990401-66l8m   0/1     Completed   0          5d5h\n",
      "default       diffpriv-sql-2020-03-17-19-11-14-223377-xfcbg   0/1     Error       0          5d5h\n",
      "default       diffpriv-sql-2020-03-18-00-07-56-225804-r7smq   0/1     Error       0          5d\n",
      "default       diffpriv-sql-2020-03-18-00-20-18-420169-szp7m   0/1     Error       0          5d\n",
      "default       diffpriv-sql-2020-03-18-00-45-23-563483-wfk2z   0/1     Error       0          5d\n",
      "default       diffpriv-sql-2020-03-18-00-56-49-870013-5d5v4   0/1     Error       0          4d23h\n",
      "default       diffpriv-sql-2020-03-23-00-03-20-671796-79dzb   0/1     Error       0          52m\n",
      "default       diffpriv-sql-2020-03-23-00-15-31-109132-zw6hg   0/1     Error       0          40m\n",
      "default       diffpriv-sql-2020-03-23-00-26-05-563934-v8tqm   0/1     Completed   0          29m\n",
      "default       diffpriv-sql-2020-03-23-00-27-19-065970-mlh4g   0/1     Completed   0          28m\n",
      "default       diffpriv-sql-2020-03-23-00-29-30-350011-zs7q2   0/1     Completed   0          26m\n",
      "default       diffpriv-sql-2020-03-23-00-46-27-074177-h2x65   0/1     Completed   0          9m12s\n",
      "default       diffpriv-sql-2020-03-23-00-53-27-660548-6mtlk   0/1     Completed   0          2m12s\n",
      "kube-system   coredns-698c77c5d7-8zz2d                        1/1     Running     0          5d22h\n",
      "kube-system   coredns-698c77c5d7-sx7qs                        1/1     Running     0          5d22h\n",
      "kube-system   coredns-autoscaler-79b778686c-75d9s             1/1     Running     0          5d22h\n",
      "kube-system   kube-proxy-glf7m                                1/1     Running     0          5d22h\n",
      "kube-system   kube-proxy-k6wfm                                1/1     Running     0          5d22h\n",
      "kube-system   kube-proxy-m45bb                                1/1     Running     0          5d22h\n",
      "kube-system   kubernetes-dashboard-74d8c675bc-zc9n9           1/1     Running     0          5d22h\n",
      "kube-system   metrics-server-69df9f75bf-kfstf                 1/1     Running     0          5d22h\n",
      "kube-system   tunnelfront-5df7d959db-7fbp5                    1/1     Running     0          5d22h\n"
     ]
    }
   ],
   "source": [
    "!kubectl get pods --all-namespaces"
   ]
  },
  {
   "cell_type": "code",
   "execution_count": 30,
   "metadata": {},
   "outputs": [
    {
     "name": "stdout",
     "output_type": "stream",
     "text": [
      "environ({'PATH': '/opt/conda/bin:/usr/local/sbin:/usr/local/bin:/usr/sbin:/usr/bin:/sbin:/bin', 'HOSTNAME': 'diffpriv-sql-2020-03-23-00-53-27-660548-6mtlk', 'MLFLOW_EXPERIMENT_ID': '938b7e40-d00c-45f0-8bab-2f0b3d1d4c3d', 'MLFLOW_RUN_ID': '640b58b9-0c8d-4d12-9e1b-a921fc4fe613', 'MLFLOW_TRACKING_URI': 'azureml://eastus2.experiments.azureml.net/history/v1.0/subscriptions/ad203158-bc5d-4e72-b764-2607833a71dc/resourceGroups/akannava/providers/Microsoft.MachineLearningServices/workspaces/akannava?auth-type=ArmTokenAuthentication&auth=eyJ0eXAiOiJKV1QiLCJhbGciOiJSUzI1NiIsIng1dCI6IllNRUxIVDBndmIwbXhvU0RvWWZvbWpxZmpZVSIsImtpZCI6IllNRUxIVDBndmIwbXhvU0RvWWZvbWpxZmpZVSJ9.eyJhdWQiOiJodHRwczovL21hbmFnZW1lbnQuY29yZS53aW5kb3dzLm5ldC8iLCJpc3MiOiJodHRwczovL3N0cy53aW5kb3dzLm5ldC83MmY5ODhiZi04NmYxLTQxYWYtOTFhYi0yZDdjZDAxMWRiNDcvIiwiaWF0IjoxNTg0OTM4MzY2LCJuYmYiOjE1ODQ5MzgzNjYsImV4cCI6MTU4NDk0MjI2NiwiX2NsYWltX25hbWVzIjp7Imdyb3VwcyI6InNyYzEifSwiX2NsYWltX3NvdXJjZXMiOnsic3JjMSI6eyJlbmRwb2ludCI6Imh0dHBzOi8vZ3JhcGgud2luZG93cy5uZXQvNzJmOTg4YmYtODZmMS00MWFmLTkxYWItMmQ3Y2QwMTFkYjQ3L3VzZXJzLzY0YjMzY2QxLWY3NTgtNDZlOC1iZWQ4LWRlOGRhZWM1Yjc1ZS9nZXRNZW1iZXJPYmplY3RzIn19LCJhY3IiOiIxIiwiYWlvIjoiQVZRQXEvOE9BQUFBbGpZdGxybTVpTWFZbVg1Q2p5MW90R1pNR0xUL1A4NGFzU1ZVT2tCUk00SGszNWsxM2loVmtYN3dxMWc5R1dMejVZU1VuTzE2MzJwdy9VNVVBbW9lQmNpVmJDb3BqbnVSQ0I2RDU2ZnN1d0E9IiwiYW1yIjpbInB3ZCIsIm1mYSJdLCJhcHBpZCI6IjA0YjA3Nzk1LThkZGItNDYxYS1iYmVlLTAyZjllMWJmN2I0NiIsImFwcGlkYWNyIjoiMCIsImZhbWlseV9uYW1lIjoiZGUgTGVvbiIsImdpdmVuX25hbWUiOiJFZHVhcmRvIiwiaXBhZGRyIjoiMTcwLjU1LjE2LjIiLCJuYW1lIjoiRWR1YXJkbyBkZSBMZW9uIiwib2lkIjoiNjRiMzNjZDEtZjc1OC00NmU4LWJlZDgtZGU4ZGFlYzViNzVlIiwib25wcmVtX3NpZCI6IlMtMS01LTIxLTEyNDUyNTA5NS03MDgyNTk2MzctMTU0MzExOTAyMS0xNzY0OTAzIiwicHVpZCI6IjEwMDMzRkZGQTQ5Rjg5MUQiLCJzY3AiOiJ1c2VyX2ltcGVyc29uYXRpb24iLCJzdWIiOiJzcWJWblRsZmJseXg1bm5WNGJHLS03WWNkTG1nNHBVMzkwTHZMNGRqbm04IiwidGlkIjoiNzJmOTg4YmYtODZmMS00MWFmLTkxYWItMmQ3Y2QwMTFkYjQ3IiwidW5pcXVlX25hbWUiOiJlZGRlbGVvbkBtaWNyb3NvZnQuY29tIiwidXBuIjoiZWRkZWxlb25AbWljcm9zb2Z0LmNvbSIsInV0aSI6Ii1iMnN3OWlkUmtPTHVtalBEWWtOQUEiLCJ2ZXIiOiIxLjAifQ.e7akShdAD7dm4pA4sSwrKRI8ITVYINYTyW_chgO9AOfRkgBb0OMpr8Ik7ThR9OkbPlbv1CNQi8Gvtos9PFRUltXf1kPDLUhAJydY6LagfQSC_mwZ-4fCLyR3X_jk3yckxC7GHyVH0V8W_whDOQTw3dmZpjnX7GE3kZgctWJg9QhZ1eaVT1jMtiD9b4ql2qjIKXXOWLPVsnKzTFlpXaLpzlvRAkspjYqHm98JDuEYeNVVlh523IROL08ksiyN5us6G-MeQ0cgQfWAj1kkHgKxyy3D4gS28yCxOYZA__wMcPO10kyzg4U8wpJIe26MuGcFGxLgHJj3TG3m0pdpfEPLaw&cloud-type=AzureCloud', 'AZUREML_FE_INT_HTTP_PORT_9001_TCP_PROTO': 'tcp', 'AZUREML_FE_PORT': 'tcp://10.0.209.73:80', 'AZUREML_FE_PORT_80_TCP_PROTO': 'tcp', 'AZUREML_FE_PORT_443_TCP': 'tcp://10.0.209.73:443', 'AZUREML_FE_INT_HTTP_PORT_9001_TCP_PORT': '9001', 'AZUREML_FE_PORT_443_TCP_PORT': '443', 'AZUREML_FE_INT_HTTP_SERVICE_PORT': '9001', 'KUBERNETES_SERVICE_HOST': '10.0.0.1', 'KUBERNETES_SERVICE_PORT_HTTPS': '443', 'KUBERNETES_PORT_443_TCP_PROTO': 'tcp', 'KUBERNETES_PORT_443_TCP_PORT': '443', 'AZUREML_FE_PORT_80_TCP_PORT': '80', 'AZUREML_FE_PORT_80_TCP_ADDR': '10.0.209.73', 'AZUREML_FE_PORT_443_TCP_ADDR': '10.0.209.73', 'AZUREML_FE_INT_HTTP_PORT': 'tcp://10.0.127.158:9001', 'AZUREML_FE_INT_HTTP_PORT_9001_TCP_ADDR': '10.0.127.158', 'KUBERNETES_PORT_443_TCP_ADDR': '10.0.0.1', 'AZUREML_FE_SERVICE_PORT': '80', 'AZUREML_FE_SERVICE_PORT_HTTPS': '443', 'AZUREML_FE_PORT_443_TCP_PROTO': 'tcp', 'AZUREML_FE_SERVICE_PORT_HTTP': '80', 'AZUREML_FE_INT_HTTP_PORT_9001_TCP': 'tcp://10.0.127.158:9001', 'KUBERNETES_SERVICE_PORT': '443', 'KUBERNETES_PORT_443_TCP': 'tcp://10.0.0.1:443', 'AZUREML_FE_SERVICE_HOST': '10.0.209.73', 'AZUREML_FE_PORT_80_TCP': 'tcp://10.0.209.73:80', 'AZUREML_FE_INT_HTTP_SERVICE_HOST': '10.0.127.158', 'KUBERNETES_PORT': 'tcp://10.0.0.1:443', 'LANG': 'C.UTF-8', 'LC_ALL': 'C.UTF-8', 'HOME': '/root'})\n"
     ]
    }
   ],
   "source": [
    "!kubectl logs diffpriv-sql-2020-03-23-00-53-27-660548-6mtlk"
   ]
  }
 ],
 "metadata": {
  "kernelspec": {
   "display_name": "Python 3",
   "language": "python",
   "name": "python3"
  },
  "language_info": {
   "codemirror_mode": {
    "name": "ipython",
    "version": 3
   },
   "file_extension": ".py",
   "mimetype": "text/x-python",
   "name": "python",
   "nbconvert_exporter": "python",
   "pygments_lexer": "ipython3",
   "version": "3.7.4"
  }
 },
 "nbformat": 4,
 "nbformat_minor": 4
}
